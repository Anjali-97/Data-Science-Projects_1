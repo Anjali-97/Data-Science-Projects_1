#Libraries
import numpy as np
import pandas as pd
import matplotlib.pyplot as plt
import seaborn as sns
import sklearn
from sklearn.linear_model import LinearRegression
from sklearn.metrics import mean_squared_error
from sklearn.model_selection import train_test_split
from sklearn.naive_bayes import MultinomialNB
from sklearn.svm import SVC
from sklearn.tree import DecisionTreeClassifier
from sklearn.neighbors import KNeighborsClassifier
from sklearn.metrics import accuracy_score,confusion_matrix,classification_report
import warnings
warnings.filterwarnings('ignore')
df=pd.read_csv('abalone.csv')df=pd.read_csv('abalone.csv')df#Libraries
import numpy as np
import pandas as pd
import matplotlib.pyplot as plt
import seaborn as sns
import sklearn
from sklearn.linear_model import LinearRegression
from sklearn.metrics import mean_squared_error
from sklearn.model_selection import train_test_split
from sklearn.naive_bayes import MultinomialNB
from sklearn.svm import SVC
from sklearn.tree import DecisionTreeClassifier
from sklearn.neighbors import KNeighborsClassifier
from sklearn.metrics import accuracy_score,confusion_matrix,classification_report
import warnings
warnings.filterwarnings('ignore')

df=pd.read_csv('abalone.csv')

df=pd.read_csv('abalone.csv')

df

df.head()

df.info()

df.shape


df.describe()

#checking null values
df.isnull().sum()



sns.heatmap(df.isnull())


df.columns.to_series().groupby(df.dtypes).groups

df.skew()

###'''Target Column Analysis'''
print("Value Count of Rings Column")
print(df.Rings.value_counts())
print("\nPercentage of Rings Column")
print(df.Rings.value_counts(normalize = True))

print(len(df.Rings.unique()))

df['Age'] = df['Rings'] + 1.5
df['Age'].head(5)

from sklearn.preprocessing import LabelEncoder
le=LabelEncoder()
df['Sex']=le.fit_transform(df['Sex'])

df

#removing outliers:
from scipy.stats import zscore
z=np.abs(zscore(df))
z


threshold=3
print(np.where(z>3))

z[6][8]


corr_hmap=df.corr()
plt.figure(figsize=(8,7))
sns.heatmap(corr_hmap,annot=True)
plt.show()

df_new=df[(z<3).all(axis=1)]


df_new

df_new.shape

#Training

#Dividing X and y
y=df[['Rings']]
x=df.drop(['Rings'], axis = 1)

from sklearn.preprocessing import StandardScaler
scale=StandardScaler()
x=scale.fit_transform(x)

x_train,x_test,y_train,y_test=train_test_split(x,y,test_size=.33,random_state=42)

x_train.shape

y_train.shape

x_test.shape

y_test.shape

lm=LinearRegression()
lm.fit(x_train,y_train)

lm.coef_

lm.intercept_

lm.score(x_train,y_train)

from sklearn.linear_model import Lasso,Ridge


ls=Lasso()
ls.fit(x_train,y_train)
ls.score(x_train,y_train)

ls.coef_

rd=Ridge()
rd.fit(x_train,y_train)
rd.score(x_train,y_train)


rd.coef_


from sklearn.linear_model import ElasticNet
enr=ElasticNet()
enr.fit(x_train,y_train)
enrpred=enr.predict(x_test)
print(enr.score(x_train,y_train))
enr.coef_


print('error :')
print(mean_squared_error(y_test,pred))


from sklearn.metrics import r2_score
print(r2_score(y_test,pred))

print('error :')
print(mean_squared_error(y_test,predict))

from sklearn.ensemble import RandomForestRegressor
rfr=RandomForestRegressor()
rfr.fit(x_train,y_train)

rfr.score(x_train,y_train)

rfr=RandomForestRegressor(n_estimators=300,random_state=46)

rfr.fit(x_train,y_train)

rfr.score(x_train,y_train)

